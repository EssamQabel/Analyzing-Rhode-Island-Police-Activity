{
 "cells": [
  {
   "cell_type": "markdown",
   "metadata": {},
   "source": [
    "# Analyzing Rhode Island Police Activity\n",
    "## Introduction\n",
    "In this exploratory project, we will analyze police behavior in the state of Rhode Island in the United States of America, to practice cleaning messy data, creating visualizations, combining and reshaping datasets, and manipulating time series data."
   ]
  },
  {
   "cell_type": "code",
   "execution_count": 75,
   "metadata": {},
   "outputs": [],
   "source": [
    "import numpy as np\n",
    "import pandas as pd\n",
    "import matplotlib.pyplot as plt"
   ]
  },
  {
   "cell_type": "markdown",
   "metadata": {},
   "source": [
    "## 1. Preparing the data for analysis"
   ]
  },
  {
   "cell_type": "code",
   "execution_count": 33,
   "metadata": {},
   "outputs": [
    {
     "data": {
      "text/html": [
       "<div>\n",
       "<style scoped>\n",
       "    .dataframe tbody tr th:only-of-type {\n",
       "        vertical-align: middle;\n",
       "    }\n",
       "\n",
       "    .dataframe tbody tr th {\n",
       "        vertical-align: top;\n",
       "    }\n",
       "\n",
       "    .dataframe thead th {\n",
       "        text-align: right;\n",
       "    }\n",
       "</style>\n",
       "<table border=\"1\" class=\"dataframe\">\n",
       "  <thead>\n",
       "    <tr style=\"text-align: right;\">\n",
       "      <th></th>\n",
       "      <th>state</th>\n",
       "      <th>stop_date</th>\n",
       "      <th>stop_time</th>\n",
       "      <th>county_name</th>\n",
       "      <th>driver_gender</th>\n",
       "      <th>driver_race</th>\n",
       "      <th>violation_raw</th>\n",
       "      <th>violation</th>\n",
       "      <th>search_conducted</th>\n",
       "      <th>search_type</th>\n",
       "      <th>stop_outcome</th>\n",
       "      <th>is_arrested</th>\n",
       "      <th>stop_duration</th>\n",
       "      <th>drugs_related_stop</th>\n",
       "      <th>district</th>\n",
       "    </tr>\n",
       "  </thead>\n",
       "  <tbody>\n",
       "    <tr>\n",
       "      <th>0</th>\n",
       "      <td>RI</td>\n",
       "      <td>2005-01-04</td>\n",
       "      <td>12:55</td>\n",
       "      <td>NaN</td>\n",
       "      <td>M</td>\n",
       "      <td>White</td>\n",
       "      <td>Equipment/Inspection Violation</td>\n",
       "      <td>Equipment</td>\n",
       "      <td>False</td>\n",
       "      <td>NaN</td>\n",
       "      <td>Citation</td>\n",
       "      <td>False</td>\n",
       "      <td>0-15 Min</td>\n",
       "      <td>False</td>\n",
       "      <td>Zone X4</td>\n",
       "    </tr>\n",
       "    <tr>\n",
       "      <th>1</th>\n",
       "      <td>RI</td>\n",
       "      <td>2005-01-23</td>\n",
       "      <td>23:15</td>\n",
       "      <td>NaN</td>\n",
       "      <td>M</td>\n",
       "      <td>White</td>\n",
       "      <td>Speeding</td>\n",
       "      <td>Speeding</td>\n",
       "      <td>False</td>\n",
       "      <td>NaN</td>\n",
       "      <td>Citation</td>\n",
       "      <td>False</td>\n",
       "      <td>0-15 Min</td>\n",
       "      <td>False</td>\n",
       "      <td>Zone K3</td>\n",
       "    </tr>\n",
       "    <tr>\n",
       "      <th>2</th>\n",
       "      <td>RI</td>\n",
       "      <td>2005-02-17</td>\n",
       "      <td>04:15</td>\n",
       "      <td>NaN</td>\n",
       "      <td>M</td>\n",
       "      <td>White</td>\n",
       "      <td>Speeding</td>\n",
       "      <td>Speeding</td>\n",
       "      <td>False</td>\n",
       "      <td>NaN</td>\n",
       "      <td>Citation</td>\n",
       "      <td>False</td>\n",
       "      <td>0-15 Min</td>\n",
       "      <td>False</td>\n",
       "      <td>Zone X4</td>\n",
       "    </tr>\n",
       "    <tr>\n",
       "      <th>3</th>\n",
       "      <td>RI</td>\n",
       "      <td>2005-02-20</td>\n",
       "      <td>17:15</td>\n",
       "      <td>NaN</td>\n",
       "      <td>M</td>\n",
       "      <td>White</td>\n",
       "      <td>Call for Service</td>\n",
       "      <td>Other</td>\n",
       "      <td>False</td>\n",
       "      <td>NaN</td>\n",
       "      <td>Arrest Driver</td>\n",
       "      <td>True</td>\n",
       "      <td>16-30 Min</td>\n",
       "      <td>False</td>\n",
       "      <td>Zone X1</td>\n",
       "    </tr>\n",
       "    <tr>\n",
       "      <th>4</th>\n",
       "      <td>RI</td>\n",
       "      <td>2005-02-24</td>\n",
       "      <td>01:20</td>\n",
       "      <td>NaN</td>\n",
       "      <td>F</td>\n",
       "      <td>White</td>\n",
       "      <td>Speeding</td>\n",
       "      <td>Speeding</td>\n",
       "      <td>False</td>\n",
       "      <td>NaN</td>\n",
       "      <td>Citation</td>\n",
       "      <td>False</td>\n",
       "      <td>0-15 Min</td>\n",
       "      <td>False</td>\n",
       "      <td>Zone X3</td>\n",
       "    </tr>\n",
       "  </tbody>\n",
       "</table>\n",
       "</div>"
      ],
      "text/plain": [
       "  state   stop_date stop_time  county_name driver_gender driver_race  \\\n",
       "0    RI  2005-01-04     12:55          NaN             M       White   \n",
       "1    RI  2005-01-23     23:15          NaN             M       White   \n",
       "2    RI  2005-02-17     04:15          NaN             M       White   \n",
       "3    RI  2005-02-20     17:15          NaN             M       White   \n",
       "4    RI  2005-02-24     01:20          NaN             F       White   \n",
       "\n",
       "                    violation_raw  violation  search_conducted search_type  \\\n",
       "0  Equipment/Inspection Violation  Equipment             False         NaN   \n",
       "1                        Speeding   Speeding             False         NaN   \n",
       "2                        Speeding   Speeding             False         NaN   \n",
       "3                Call for Service      Other             False         NaN   \n",
       "4                        Speeding   Speeding             False         NaN   \n",
       "\n",
       "    stop_outcome is_arrested stop_duration  drugs_related_stop district  \n",
       "0       Citation       False      0-15 Min               False  Zone X4  \n",
       "1       Citation       False      0-15 Min               False  Zone K3  \n",
       "2       Citation       False      0-15 Min               False  Zone X4  \n",
       "3  Arrest Driver        True     16-30 Min               False  Zone X1  \n",
       "4       Citation       False      0-15 Min               False  Zone X3  "
      ]
     },
     "execution_count": 33,
     "metadata": {},
     "output_type": "execute_result"
    }
   ],
   "source": [
    "# Read 'police.csv' into a DataFrame named police_dataset\n",
    "police_dataset = pd.read_csv('police.csv')\n",
    "\n",
    "# Examine the head of the DataFrame\n",
    "police_dataset.head()"
   ]
  },
  {
   "cell_type": "code",
   "execution_count": 34,
   "metadata": {},
   "outputs": [
    {
     "name": "stdout",
     "output_type": "stream",
     "text": [
      "<class 'pandas.core.frame.DataFrame'>\n",
      "RangeIndex: 91741 entries, 0 to 91740\n",
      "Data columns (total 15 columns):\n",
      "state                 91741 non-null object\n",
      "stop_date             91741 non-null object\n",
      "stop_time             91741 non-null object\n",
      "county_name           0 non-null float64\n",
      "driver_gender         86536 non-null object\n",
      "driver_race           86539 non-null object\n",
      "violation_raw         86539 non-null object\n",
      "violation             86539 non-null object\n",
      "search_conducted      91741 non-null bool\n",
      "search_type           3307 non-null object\n",
      "stop_outcome          86539 non-null object\n",
      "is_arrested           86539 non-null object\n",
      "stop_duration         86539 non-null object\n",
      "drugs_related_stop    91741 non-null bool\n",
      "district              91741 non-null object\n",
      "dtypes: bool(2), float64(1), object(12)\n",
      "memory usage: 9.3+ MB\n"
     ]
    }
   ],
   "source": [
    "# Show main information about the DataFrame\n",
    "police_dataset.info()"
   ]
  },
  {
   "cell_type": "code",
   "execution_count": 35,
   "metadata": {},
   "outputs": [
    {
     "name": "stdout",
     "output_type": "stream",
     "text": [
      "Missing values: \n",
      "state                     0\n",
      "stop_date                 0\n",
      "stop_time                 0\n",
      "county_name           91741\n",
      "driver_gender          5205\n",
      "driver_race            5202\n",
      "violation_raw          5202\n",
      "violation              5202\n",
      "search_conducted          0\n",
      "search_type           88434\n",
      "stop_outcome           5202\n",
      "is_arrested            5202\n",
      "stop_duration          5202\n",
      "drugs_related_stop        0\n",
      "district                  0\n",
      "dtype: int64\n"
     ]
    }
   ],
   "source": [
    "# Count the number of missing values in each column\n",
    "print(\"Missing values: \")\n",
    "print(police_dataset.isnull().sum())\n",
    "\n",
    "# Drop the 'county_name' and 'state' columns, because we don't need them\n",
    "police_dataset.drop(['county_name', 'state'], axis='columns', inplace=True)"
   ]
  },
  {
   "cell_type": "code",
   "execution_count": 36,
   "metadata": {},
   "outputs": [
    {
     "name": "stdout",
     "output_type": "stream",
     "text": [
      "Missing values before droping NaN values: \n",
      "stop_date                 0\n",
      "stop_time                 0\n",
      "driver_gender          5205\n",
      "driver_race            5202\n",
      "violation_raw          5202\n",
      "violation              5202\n",
      "search_conducted          0\n",
      "search_type           88434\n",
      "stop_outcome           5202\n",
      "is_arrested            5202\n",
      "stop_duration          5202\n",
      "drugs_related_stop        0\n",
      "district                  0\n",
      "dtype: int64\n",
      "Missing values after droping NaN values: \n",
      "stop_date                 0\n",
      "stop_time                 0\n",
      "driver_gender             0\n",
      "driver_race               0\n",
      "violation_raw             0\n",
      "violation                 0\n",
      "search_conducted          0\n",
      "search_type           83229\n",
      "stop_outcome              0\n",
      "is_arrested               0\n",
      "stop_duration             0\n",
      "drugs_related_stop        0\n",
      "district                  0\n",
      "dtype: int64\n",
      "The shape of the dataset: (86536, 13)\n"
     ]
    }
   ],
   "source": [
    "# Count the number of NaN in each column\n",
    "print(\"Missing values before droping NaN values: \")\n",
    "print(police_dataset.isnull().sum())\n",
    "\n",
    "# Drop all rows that are missing 'driver_gender'\n",
    "police_dataset.dropna(subset=['driver_gender'], inplace=True)\n",
    "\n",
    "# Count the number of NaN in each column\n",
    "print(\"Missing values after droping NaN values: \")\n",
    "print(police_dataset.isnull().sum())\n",
    "\n",
    "# Examine the shape of the DataFrame\n",
    "print(\"The shape of the dataset:\", police_dataset.shape)"
   ]
  },
  {
   "cell_type": "markdown",
   "metadata": {},
   "source": [
    "### Clean The main columns\n",
    "In this phase we need to clean the main columns that we are going to work with:\n",
    "- is_arrested: to make it of type bool\n",
    "- stop_date and stop_time: to make a column of type datetime and make it the index"
   ]
  },
  {
   "cell_type": "code",
   "execution_count": 40,
   "metadata": {},
   "outputs": [
    {
     "name": "stdout",
     "output_type": "stream",
     "text": [
      "0    False\n",
      "1    False\n",
      "2    False\n",
      "3     True\n",
      "4    False\n",
      "Name: is_arrested, dtype: bool\n"
     ]
    }
   ],
   "source": [
    "# Examine the head of the 'is_arrested' column\n",
    "print(police_dataset.is_arrested.head())\n",
    "\n",
    "# Change the data type of 'is_arrested' to 'bool' to better handle indexing\n",
    "police_dataset['is_arrested'] = police_dataset.is_arrested.astype('bool')"
   ]
  },
  {
   "cell_type": "code",
   "execution_count": 41,
   "metadata": {},
   "outputs": [
    {
     "name": "stdout",
     "output_type": "stream",
     "text": [
      "<class 'pandas.core.frame.DataFrame'>\n",
      "DatetimeIndex: 86536 entries, 2005-01-04 12:55:00 to 2015-12-31 22:47:00\n",
      "Data columns (total 13 columns):\n",
      "stop_date             86536 non-null object\n",
      "stop_time             86536 non-null object\n",
      "driver_gender         86536 non-null object\n",
      "driver_race           86536 non-null object\n",
      "violation_raw         86536 non-null object\n",
      "violation             86536 non-null object\n",
      "search_conducted      86536 non-null bool\n",
      "search_type           3307 non-null object\n",
      "stop_outcome          86536 non-null object\n",
      "is_arrested           86536 non-null bool\n",
      "stop_duration         86536 non-null object\n",
      "drugs_related_stop    86536 non-null bool\n",
      "district              86536 non-null object\n",
      "dtypes: bool(3), object(10)\n",
      "memory usage: 7.5+ MB\n",
      "None\n"
     ]
    }
   ],
   "source": [
    "# Concatenate 'stop_date' and 'stop_time' (separated by a space)\n",
    "combined = police_dataset.stop_date.str.cat(police_dataset.stop_time, sep=' ')\n",
    "\n",
    "# Convert 'combined' to datetime format\n",
    "police_dataset['stop_datetime'] = pd.to_datetime(combined)\n",
    "\n",
    "# Set 'stop_datetime' as the index\n",
    "police_dataset.set_index('stop_datetime', inplace=True)\n",
    "\n",
    "# Show the main information about the DataFrame after modification\n",
    "print(police_dataset.info())"
   ]
  },
  {
   "cell_type": "markdown",
   "metadata": {},
   "source": [
    "## 2. Exploring the relationship between gender and policing\n",
    "In this phase we invistigate the question \"Does the gender of a driver have an impact on police behavior during a traffic stop?\" while practicing filtering, grouping, method chaining, etc."
   ]
  },
  {
   "cell_type": "markdown",
   "metadata": {},
   "source": [
    "### First question - Do the genders commit different violations?"
   ]
  },
  {
   "cell_type": "code",
   "execution_count": 48,
   "metadata": {},
   "outputs": [
    {
     "name": "stdout",
     "output_type": "stream",
     "text": [
      "All violations: \n",
      "Speeding               48423\n",
      "Moving violation       16224\n",
      "Equipment              10921\n",
      "Other                   4409\n",
      "Registration/plates     3703\n",
      "Seat belt               2856\n",
      "Name: violation, dtype: int64\n",
      "==============================\n",
      "The percentage of each violation: \n",
      "Speeding               55.957058\n",
      "Moving violation       18.748267\n",
      "Equipment              12.620181\n",
      "Other                   5.094989\n",
      "Registration/plates     4.279144\n",
      "Seat belt               3.300361\n",
      "Name: violation, dtype: float64\n"
     ]
    }
   ],
   "source": [
    "# First we need to examine violations committed by all drivers\n",
    "# Count the unique values in 'violation'\n",
    "print(\"All violations: \")\n",
    "print(police_dataset.violation.value_counts())\n",
    "\n",
    "# Express the counts as proportions\n",
    "print(30 * \"=\")\n",
    "print(\"The percentage of each violation: \")\n",
    "print(police_dataset.violation.value_counts(normalize=True) * 100)"
   ]
  },
  {
   "cell_type": "code",
   "execution_count": 53,
   "metadata": {},
   "outputs": [
    {
     "name": "stdout",
     "output_type": "stream",
     "text": [
      "The violations by female drivers (as proportions): \n",
      "Speeding               65.811391\n",
      "Moving violation       13.821822\n",
      "Equipment              10.519896\n",
      "Registration/plates     4.441827\n",
      "Other                   2.973837\n",
      "Seat belt               2.431227\n",
      "Name: violation, dtype: float64\n",
      "===============================\n",
      "The violations by male drivers (as proportions): \n",
      "Speeding               52.224276\n",
      "Moving violation       20.614385\n",
      "Equipment              13.415761\n",
      "Other                   5.898474\n",
      "Registration/plates     4.217520\n",
      "Seat belt               3.629585\n",
      "Name: violation, dtype: float64\n"
     ]
    }
   ],
   "source": [
    "# Create a DataFrame of female drivers\n",
    "female = police_dataset[ police_dataset.driver_gender == 'F' ]\n",
    "\n",
    "# Create a DataFrame of male drivers\n",
    "male = police_dataset[ police_dataset.driver_gender == 'M' ]\n",
    "\n",
    "# Compute the violations by female drivers (as proportions)\n",
    "print(\"The violations by female drivers (as proportions): \")\n",
    "print(female.violation.value_counts(normalize=True) * 100)\n",
    "\n",
    "# Compute the violations by male drivers (as proportions)\n",
    "print(31 * '=')\n",
    "print(\"The violations by male drivers (as proportions): \")\n",
    "print(male.violation.value_counts(normalize=True) * 100)"
   ]
  },
  {
   "cell_type": "markdown",
   "metadata": {},
   "source": [
    "Through this observations, we can see that the most common violation done by a female, is speeding (65.8%), while not wearing the seat belt is the least common violation done by a female.\n",
    "Also the most common violation done by males is speeding, but it is only half of the violation (52%), less than the females' (65%). Not wearing seat belt is the least commeted violation by males also.\n"
   ]
  },
  {
   "cell_type": "markdown",
   "metadata": {},
   "source": [
    "### Secound question - Does gender affect who gets a ticket for speeding?\n",
    "In the last question we compared the traffic violations commetted by each gender, now we will narrow our focus to the relationship between gender and stop outcomes for one specific violation, namely speeding."
   ]
  },
  {
   "cell_type": "code",
   "execution_count": 55,
   "metadata": {},
   "outputs": [
    {
     "name": "stdout",
     "output_type": "stream",
     "text": [
      "Stop outcomes for female drivers (as proportions): \n",
      "Citation            95.219225\n",
      "Warning              4.007414\n",
      "Arrest Driver        0.575227\n",
      "N/D                  0.095871\n",
      "Arrest Passenger     0.063914\n",
      "No Action            0.038348\n",
      "Name: stop_outcome, dtype: float64\n",
      "===============================\n",
      "Stop outcomes for male drivers (as proportions): \n",
      "Citation            94.459530\n",
      "Warning              3.618391\n",
      "Arrest Driver        1.589529\n",
      "Arrest Passenger     0.128139\n",
      "No Action            0.106782\n",
      "N/D                  0.097629\n",
      "Name: stop_outcome, dtype: float64\n"
     ]
    }
   ],
   "source": [
    "# Create a DataFrame of female drivers stopped for speeding\n",
    "female_and_speeding = police_dataset[(police_dataset.driver_gender == 'F') & (police_dataset.violation == 'Speeding')]\n",
    "\n",
    "# Create a DataFrame of male drivers stopped for speeding\n",
    "male_and_speeding = police_dataset[(police_dataset.driver_gender == 'M') & (police_dataset.violation == 'Speeding')]\n",
    "\n",
    "# Compute the stop outcomes for female drivers (as proportions)\n",
    "print(\"Stop outcomes for female drivers (as proportions): \")\n",
    "print(female_and_speeding.stop_outcome.value_counts(normalize=True) * 100)\n",
    "\n",
    "# Compute the stop outcomes for male drivers (as proportions)\n",
    "print(31 * '=')\n",
    "print(\"Stop outcomes for male drivers (as proportions): \")\n",
    "print(male_and_speeding.stop_outcome.value_counts(normalize=True) * 100)"
   ]
  },
  {
   "cell_type": "markdown",
   "metadata": {},
   "source": [
    "As of speeding there is no corrolation between gender and the out come of the violation. That police officers generally give people citation for there speeding, actully 95% of the time, and 3.8% of the time give them warning. With the probability of 1.1% of arresting the driver or the passenger."
   ]
  },
  {
   "cell_type": "markdown",
   "metadata": {},
   "source": [
    "### Third question - Does gender affect whose vehicle is searched?"
   ]
  },
  {
   "cell_type": "code",
   "execution_count": 60,
   "metadata": {},
   "outputs": [
    {
     "name": "stdout",
     "output_type": "stream",
     "text": [
      "Display the percentage of conducting a search: \n",
      "3.82153092354627\n"
     ]
    }
   ],
   "source": [
    "# We can calculate the search rate by taking the mean (True = 1, False = 0)\n",
    "print(\"Display the percentage of conducting a search: \")\n",
    "print(police_dataset.search_conducted.mean() * 100)"
   ]
  },
  {
   "cell_type": "code",
   "execution_count": 64,
   "metadata": {},
   "outputs": [
    {
     "name": "stdout",
     "output_type": "stream",
     "text": [
      "driver_gender\n",
      "F    1.918062\n",
      "M    4.542558\n",
      "Name: search_conducted, dtype: float64\n"
     ]
    }
   ],
   "source": [
    "# Calculate the search rate for both groups simultaneously\n",
    "print(police_dataset.groupby('driver_gender').search_conducted.mean() * 100)"
   ]
  },
  {
   "cell_type": "markdown",
   "metadata": {},
   "source": [
    "At the first glance we can see that driver gender might affect the probability of being searched, but is it because of just gender, or is it affected by other factors."
   ]
  },
  {
   "cell_type": "code",
   "execution_count": 68,
   "metadata": {},
   "outputs": [
    {
     "name": "stdout",
     "output_type": "stream",
     "text": [
      "violation            driver_gender\n",
      "Equipment            F                 3.998401\n",
      "                     M                 7.149644\n",
      "Moving violation     F                 3.925746\n",
      "                     M                 6.152419\n",
      "Other                F                 4.101839\n",
      "                     M                 4.619125\n",
      "Registration/plates  F                 5.492424\n",
      "                     M                10.880242\n",
      "Seat belt            F                 1.730104\n",
      "                     M                 3.511853\n",
      "Speeding             F                 0.830883\n",
      "                     M                 2.788541\n",
      "Name: search_conducted, dtype: float64\n"
     ]
    }
   ],
   "source": [
    "# Calculate the search rate for each combination of gender and violation\n",
    "print(police_dataset.groupby(['violation', 'driver_gender']).search_conducted.mean() * 100)"
   ]
  },
  {
   "cell_type": "markdown",
   "metadata": {},
   "source": [
    "And as we can observe, with different violation, males have a higher probability of being searched, so YES there is a relationship between gender and the vehicle being searched."
   ]
  },
  {
   "cell_type": "markdown",
   "metadata": {},
   "source": [
    "## 3. Exploratory Data Analysis"
   ]
  },
  {
   "cell_type": "markdown",
   "metadata": {},
   "source": [
    "In this section we can analyze the data using visuals, to answer other questions, like the effect of stop time and arresting..."
   ]
  },
  {
   "cell_type": "markdown",
   "metadata": {},
   "source": [
    "### First question - Does time of day affect arrest rate?"
   ]
  },
  {
   "cell_type": "code",
   "execution_count": 74,
   "metadata": {},
   "outputs": [
    {
     "name": "stdout",
     "output_type": "stream",
     "text": [
      "The percentage of the number of making an arrest: \n",
      "0.0355690117407784\n",
      "==============================\n",
      "A table shows the arrest rate for each hour: \n",
      "stop_datetime\n",
      "0     5.143094\n",
      "1     6.493185\n",
      "2     6.079821\n",
      "3     6.054872\n",
      "4     4.800000\n",
      "5     4.278075\n",
      "6     1.381304\n",
      "7     1.303155\n",
      "8     2.185350\n",
      "9     2.520616\n",
      "10    2.821272\n",
      "11    2.889667\n",
      "12    3.739931\n",
      "13    3.077599\n",
      "14    3.060458\n",
      "15    3.067871\n",
      "16    3.528084\n",
      "17    4.061896\n",
      "18    3.820439\n",
      "19    3.224490\n",
      "20    3.810734\n",
      "21    6.454062\n",
      "22    4.866608\n",
      "23    4.759152\n",
      "Name: is_arrested, dtype: float64\n"
     ]
    },
    {
     "data": {
      "image/png": "[encoded data removed]",
      "text/plain": [
       "<Figure size 432x288 with 1 Axes>"
      ]
     },
     "metadata": {
      "needs_background": "light"
     },
     "output_type": "display_data"
    }
   ],
   "source": [
    "# Calculate the overall arrest rate\n",
    "print('The percentage of the number of making an arrest: ')\n",
    "print(police_dataset.is_arrested.mean())\n",
    "\n",
    "# Calculate the hourly arrest rate\n",
    "print(30*\"=\")\n",
    "print('A table shows the arrest rate for each hour: ')\n",
    "print(police_dataset.groupby(police_dataset.index.hour).is_arrested.mean() * 100)\n",
    "\n",
    "# Save the hourly arrest rate\n",
    "hourly_arrest_rate = police_dataset.groupby(police_dataset.index.hour).is_arrested.mean() * 100\n",
    "\n",
    "# Create a line plot of 'hourly_arrest_rate'\n",
    "hourly_arrest_rate.plot()\n",
    "\n",
    "# Add the xlabel, ylabel, and title\n",
    "plt.xlabel('Hour')\n",
    "plt.ylabel('Arrest Rate')\n",
    "plt.title('Arrest Rate by Time of Day')\n",
    "\n",
    "# Display the plot\n",
    "plt.show()"
   ]
  },
  {
   "cell_type": "markdown",
   "metadata": {},
   "source": [
    "So the arrest rate does change over the day, it spikes overnight, and then drops in the early mornings."
   ]
  },
  {
   "cell_type": "markdown",
   "metadata": {},
   "source": [
    "### Secound question - Are drug-related stops on the rise?"
   ]
  },
  {
   "cell_type": "code",
   "execution_count": 79,
   "metadata": {},
   "outputs": [
    {
     "name": "stdout",
     "output_type": "stream",
     "text": [
      "The percentage of drug-related stops: \n",
      "stop_datetime\n",
      "2005-12-31    0.650142\n",
      "2006-12-31    0.725790\n",
      "2007-12-31    0.796989\n",
      "2008-12-31    0.750514\n",
      "2009-12-31    0.988858\n",
      "2010-12-31    1.008121\n",
      "2011-12-31    0.973141\n",
      "2012-12-31    0.992102\n",
      "2013-12-31    1.309351\n",
      "2014-12-31    1.382648\n",
      "2015-12-31    1.226614\n",
      "Freq: A-DEC, Name: drugs_related_stop, dtype: float64\n"
     ]
    },
    {
     "data": {
      "image/png": "[encoded data removed]",
      "text/plain": [
       "<Figure size 432x288 with 1 Axes>"
      ]
     },
     "metadata": {
      "needs_background": "light"
     },
     "output_type": "display_data"
    }
   ],
   "source": [
    "# Calculate the annual rate of drug-related stops\n",
    "print('The percentage of drug-related stops: ')\n",
    "print(police_dataset.drugs_related_stop.resample('A').mean() * 100)\n",
    "\n",
    "# Save the annual rate of drug-related stops\n",
    "annual_drug_rate = police_dataset.drugs_related_stop.resample('A').mean() * 100\n",
    "\n",
    "# Create a line plot of 'annual_drug_rate'\n",
    "annual_drug_rate.plot()\n",
    "plt.show()"
   ]
  },
  {
   "cell_type": "markdown",
   "metadata": {},
   "source": [
    "This plot demonstrates that there has been an increase in drug-related stop in the recent years, form (0.65%) in 2005, to (1.22%) in 2015. But is it because there has been an increase of vechile search?"
   ]
  },
  {
   "cell_type": "code",
   "execution_count": 84,
   "metadata": {},
   "outputs": [
    {
     "data": {
      "image/png": "[encoded data removed]",
      "text/plain": [
       "<Figure size 432x288 with 2 Axes>"
      ]
     },
     "metadata": {
      "needs_background": "light"
     },
     "output_type": "display_data"
    }
   ],
   "source": [
    "# Calculate and save the annual search rate\n",
    "annual_search_rate = police_dataset.search_conducted.resample('A').mean()\n",
    "\n",
    "# Concatenate 'annual_drug_rate' and 'annual_search_rate'\n",
    "annual = pd.concat([annual_drug_rate, annual_search_rate], axis='columns')\n",
    "\n",
    "# Create subplots from 'annual'\n",
    "annual.plot(subplots=True)\n",
    "plt.show()"
   ]
  },
  {
   "cell_type": "markdown",
   "metadata": {},
   "source": [
    "Actually the oppesite is true, there is an increase in drug-related stops, but with even a decrease in vechile search rate!!"
   ]
  },
  {
   "cell_type": "markdown",
   "metadata": {},
   "source": [
    "### Third question - What violations are caught in each district?\n",
    "The state of Rhode Island has six police zones, we need to investigate the distribution of violations in these zones."
   ]
  },
  {
   "cell_type": "code",
   "execution_count": 86,
   "metadata": {},
   "outputs": [
    {
     "data": {
      "image/png": "[encoded data removed]",
      "text/plain": [
       "<Figure size 432x288 with 1 Axes>"
      ]
     },
     "metadata": {
      "needs_background": "light"
     },
     "output_type": "display_data"
    }
   ],
   "source": [
    "# Save the frequency table as 'all_zones'\n",
    "all_zones = pd.crosstab(police_dataset['district'], police_dataset['violation'])\n",
    "\n",
    "# Create a bar plot of 'all_zones'\n",
    "all_zones.plot(kind='bar')\n",
    "plt.show()"
   ]
  },
  {
   "cell_type": "code",
   "execution_count": 87,
   "metadata": {},
   "outputs": [
    {
     "data": {
      "image/png": "[encoded data removed]",
      "text/plain": [
       "<Figure size 432x288 with 1 Axes>"
      ]
     },
     "metadata": {
      "needs_background": "light"
     },
     "output_type": "display_data"
    }
   ],
   "source": [
    "# Create a stacked bar plot of 'all_zones'\n",
    "all_zones.plot(kind='bar', stacked=True)\n",
    "plt.show()"
   ]
  },
  {
   "cell_type": "markdown",
   "metadata": {},
   "source": [
    "With these visualizations we can extract informative insights to improve the policing in Rhode Island state. Like \"Registration/plates\" violations are low in (Zone K1), so we need to investigate why is that to know how to reduce Registration/plates-related violations in the other zones, etc."
   ]
  },
  {
   "cell_type": "code",
   "execution_count": null,
   "metadata": {},
   "outputs": [],
   "source": []
  }
 ],
 "metadata": {
  "kernelspec": {
   "display_name": "Python 3",
   "language": "python",
   "name": "python3"
  },
  "language_info": {
   "codemirror_mode": {
    "name": "ipython",
    "version": 3
   },
   "file_extension": ".py",
   "mimetype": "text/x-python",
   "name": "python",
   "nbconvert_exporter": "python",
   "pygments_lexer": "ipython3",
   "version": "3.7.1"
  }
 },
 "nbformat": 4,
 "nbformat_minor": 2
}
